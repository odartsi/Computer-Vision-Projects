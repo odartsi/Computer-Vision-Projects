{
 "cells":[
  {
   "cell_type":"code",
   "source":[
    "import tensorflow as tf"
   ],
   "execution_count":1,
   "outputs":[
    
   ],
   "metadata":{
    "datalore":{
     "node_id":"4qGIvPetXOJ5W5RB2rJSV5",
     "type":"CODE",
     "hide_input_from_viewers":false,
     "hide_output_from_viewers":false,
     "report_properties":{
      
     }
    }
   }
  },
  {
   "cell_type":"code",
   "source":[
    "print(tf.__version__)"
   ],
   "execution_count":2,
   "outputs":[
    {
     "name":"stdout",
     "text":[
      "2.9.3\n"
     ],
     "output_type":"stream"
    }
   ],
   "metadata":{
    "datalore":{
     "node_id":"Kjp4Sn7HMlzrgNOkxVCsMt",
     "type":"CODE",
     "hide_input_from_viewers":false,
     "hide_output_from_viewers":false,
     "report_properties":{
      
     }
    }
   }
  },
  {
   "cell_type":"code",
   "source":[
    "from sklearn.datasets import load_breast_cancer"
   ],
   "execution_count":3,
   "outputs":[
    
   ],
   "metadata":{
    "datalore":{
     "node_id":"ug62aDARiEuEcLyUsF3ojK",
     "type":"CODE",
     "hide_input_from_viewers":false,
     "hide_output_from_viewers":false,
     "report_properties":{
      
     }
    }
   }
  },
  {
   "cell_type":"code",
   "source":[
    "from pickle import load\n",
    "data= load_breast_cancer()"
   ],
   "execution_count":4,
   "outputs":[
    
   ],
   "metadata":{
    "datalore":{
     "node_id":"6FeWcMDWcmQMc4fnzzI6Qn",
     "type":"CODE",
     "hide_input_from_viewers":false,
     "hide_output_from_viewers":false,
     "report_properties":{
      
     }
    }
   }
  },
  {
   "cell_type":"code",
   "source":[
    "type(data)"
   ],
   "execution_count":5,
   "outputs":[
    {
     "data":{
      "text\/plain":[
       "sklearn.utils.Bunch"
      ]
     },
     "metadata":{
      
     },
     "output_type":"display_data"
    }
   ],
   "metadata":{
    "datalore":{
     "node_id":"DyYvskTvsG4zMdt4FEYrqg",
     "type":"CODE",
     "hide_input_from_viewers":false,
     "hide_output_from_viewers":false,
     "report_properties":{
      
     }
    }
   }
  },
  {
   "cell_type":"code",
   "source":[
    "data.keys()"
   ],
   "execution_count":6,
   "outputs":[
    {
     "data":{
      "text\/plain":[
       "dict_keys(['data', 'target', 'frame', 'target_names', 'DESCR', 'feature_names', 'filename', 'data_module'])"
      ]
     },
     "metadata":{
      
     },
     "output_type":"display_data"
    }
   ],
   "metadata":{
    "datalore":{
     "node_id":"pHD0wHPaVGGlYbvvmVP8yJ",
     "type":"CODE",
     "hide_input_from_viewers":false,
     "hide_output_from_viewers":false,
     "report_properties":{
      
     }
    }
   }
  },
  {
   "cell_type":"code",
   "source":[
    "data.data"
   ],
   "execution_count":7,
   "outputs":[
    {
     "data":{
      "text\/html":[
       "<pre>array([[1.799e+01, 1.038e+01, 1.228e+02, ..., 2.654e-01, 4.601e-01,\n",
       "        1.189e-01],\n",
       "       [2.057e+01, 1.777e+01, 1.329e+02, ..., 1.860e-01, 2.750e-01,\n",
       "        8.902e-02],\n",
       "       [1.969e+01, 2.125e+01, 1.300e+02, ..., 2.430e-01, 3.613e-01,\n",
       "        8.758e-02],\n",
       "       ...,\n",
       "       [1.660e+01, 2.808e+01, 1.083e+02, ..., 1.418e-01, 2.218e-01,\n",
       "        7.820e-02],\n",
       "       [2.060e+01, 2.933e+01, 1.401e+02, ..., 2.650e-01, 4.087e-01,\n",
       "        1.240e-01],\n",
       "       [7.760e+00, 2.454e+01, 4.792e+01, ..., 0.000e+00, 2.871e-01,\n",
       "        7.039e-02]])<\/pre>"
      ]
     },
     "metadata":{
      
     },
     "output_type":"display_data"
    }
   ],
   "metadata":{
    "datalore":{
     "node_id":"mwgMV8Ln5mZc2Mf232k3yw",
     "type":"CODE",
     "hide_input_from_viewers":false,
     "hide_output_from_viewers":false,
     "report_properties":{
      
     }
    }
   }
  },
  {
   "cell_type":"code",
   "source":[
    "data.data.shape #(n_of_samples,n_of_features)"
   ],
   "execution_count":8,
   "outputs":[
    {
     "data":{
      "text\/plain":[
       "(569, 30)"
      ]
     },
     "metadata":{
      
     },
     "output_type":"display_data"
    }
   ],
   "metadata":{
    "datalore":{
     "node_id":"DE6Oy6ml91DFi9WT7u0f4x",
     "type":"CODE",
     "hide_input_from_viewers":false,
     "hide_output_from_viewers":false,
     "report_properties":{
      
     }
    }
   }
  },
  {
   "cell_type":"code",
   "source":[
    "data.target_names"
   ],
   "execution_count":9,
   "outputs":[
    {
     "data":{
      "text\/html":[
       "<pre>array(['malignant', 'benign'], dtype='%lt;U9')<\/pre>"
      ]
     },
     "metadata":{
      
     },
     "output_type":"display_data"
    }
   ],
   "metadata":{
    "datalore":{
     "node_id":"vKqXaXvXSok5AyfEZh1sMR",
     "type":"CODE",
     "hide_input_from_viewers":false,
     "hide_output_from_viewers":false,
     "report_properties":{
      
     }
    }
   }
  },
  {
   "cell_type":"code",
   "source":[
    "data.feature_names"
   ],
   "execution_count":10,
   "outputs":[
    {
     "data":{
      "text\/html":[
       "<pre>array(['mean radius', 'mean texture', 'mean perimeter', 'mean area',\n",
       "       'mean smoothness', 'mean compactness', 'mean concavity',\n",
       "       'mean concave points', 'mean symmetry', 'mean fractal dimension',\n",
       "       'radius error', 'texture error', 'perimeter error', 'area error',\n",
       "       'smoothness error', 'compactness error', 'concavity error',\n",
       "       'concave points error', 'symmetry error',\n",
       "       'fractal dimension error', 'worst radius', 'worst texture',\n",
       "       'worst perimeter', 'worst area', 'worst smoothness',\n",
       "       'worst compactness', 'worst concavity', 'worst concave points',\n",
       "       'worst symmetry', 'worst fractal dimension'], dtype='%lt;U23')<\/pre>"
      ]
     },
     "metadata":{
      
     },
     "output_type":"display_data"
    }
   ],
   "metadata":{
    "datalore":{
     "node_id":"bn2g1Yv9YGKE2XcXENuzDV",
     "type":"CODE",
     "hide_input_from_viewers":false,
     "hide_output_from_viewers":false,
     "report_properties":{
      
     }
    }
   }
  },
  {
   "cell_type":"code",
   "source":[
    "from sklearn.model_selection import train_test_split\n",
    "\n",
    "x_train, x_test, y_train,y_test = train_test_split(data.data , data.target, test_size=0.33)"
   ],
   "execution_count":11,
   "outputs":[
    
   ],
   "metadata":{
    "datalore":{
     "node_id":"9ATTAY9fqpGiyvEMRtC94p",
     "type":"CODE",
     "hide_input_from_viewers":true,
     "hide_output_from_viewers":true
    }
   }
  },
  {
   "cell_type":"code",
   "source":[
    "N, D = x_train.shape"
   ],
   "execution_count":12,
   "outputs":[
    
   ],
   "metadata":{
    "datalore":{
     "node_id":"GWLG7CpelWKnCBaHRmR5OX",
     "type":"CODE",
     "hide_input_from_viewers":true,
     "hide_output_from_viewers":true
    }
   }
  },
  {
   "cell_type":"code",
   "source":[
    "N, D #(n_of_samples,n_of_features)"
   ],
   "execution_count":13,
   "outputs":[
    {
     "data":{
      "text\/plain":[
       "(381, 30)"
      ]
     },
     "metadata":{
      
     },
     "output_type":"display_data"
    }
   ],
   "metadata":{
    "datalore":{
     "node_id":"XWjlNXTMLYdNTxGLSPV1z5",
     "type":"CODE",
     "hide_input_from_viewers":true,
     "hide_output_from_viewers":true
    }
   }
  },
  {
   "cell_type":"code",
   "source":[
    "from sklearn.preprocessing import StandardScaler # gives mean =0 and variant =1 for each point in the data"
   ],
   "execution_count":14,
   "outputs":[
    
   ],
   "metadata":{
    "datalore":{
     "node_id":"AfYK0D3eEDpdmacVHqcWRG",
     "type":"CODE",
     "hide_input_from_viewers":true,
     "hide_output_from_viewers":true
    }
   }
  },
  {
   "cell_type":"code",
   "source":[
    "scaler = StandardScaler()\n",
    "x_train = scaler.fit_transform(x_train) #we are fitting only in the train data set \n",
    "x_test =scaler.transform(x_test)"
   ],
   "execution_count":15,
   "outputs":[
    
   ],
   "metadata":{
    "datalore":{
     "node_id":"SzeC1PRjG2wFYIPYz5Sfqw",
     "type":"CODE",
     "hide_input_from_viewers":true,
     "hide_output_from_viewers":true
    }
   }
  },
  {
   "cell_type":"code",
   "source":[
    "model = tf.keras.models.Sequential([\n",
    "    tf.keras.layers.Input(shape=(D,)),\n",
    "    tf.keras.layers.Dense(1,activation='sigmoid')\n",
    "])"
   ],
   "execution_count":17,
   "outputs":[
    
   ],
   "metadata":{
    "datalore":{
     "node_id":"2JMhVFplWGlVdDUlIcV7ab",
     "type":"CODE",
     "hide_input_from_viewers":true,
     "hide_output_from_viewers":true
    }
   }
  },
  {
   "cell_type":"code",
   "source":[
    "model"
   ],
   "execution_count":18,
   "outputs":[
    {
     "data":{
      "text\/plain":[
       "<keras.engine.sequential.Sequential at 0x7f24a41644c0>"
      ]
     },
     "metadata":{
      
     },
     "output_type":"display_data"
    }
   ],
   "metadata":{
    "datalore":{
     "node_id":"Mq6QdktKwY0NEK04ZJizs8",
     "type":"CODE",
     "hide_input_from_viewers":true,
     "hide_output_from_viewers":true
    }
   }
  },
  {
   "cell_type":"code",
   "source":[
    "# compile the model\n",
    "model.compile(optimizer='adam',loss='binary_crossentropy',metrics=['accuracy'])"
   ],
   "execution_count":21,
   "outputs":[
    
   ],
   "metadata":{
    "datalore":{
     "node_id":"RKeKcqVbY7brXbKpGoAXOT",
     "type":"CODE",
     "hide_input_from_viewers":true,
     "hide_output_from_viewers":true
    }
   }
  },
  {
   "cell_type":"code",
   "source":[
    "#train the model\n",
    "r= model.fit(x_train,y_train, validation_data=(x_test,y_test),epochs=100)"
   ],
   "execution_count":23,
   "outputs":[
    {
     "name":"stdout",
     "text":[
      "Epoch 1\/100\n",
      "\r 1\/12 [=>............................] - ETA: 9s - loss: 0.4495 - accuracy: 0.8125\b\b\b\b\b\b\b\b\b\b\b\b\b\b\b\b\b\b\b\b\b\b\b\b\b\b\b\b\b\b\b\b\b\b\b\b\b\b\b\b\b\b\b\b\b\b\b\b\b\b\b\b\b\b\b\b\b\b\b\b\b\b\b\b\b\b\b\b\b\b\b\b\b\b\b\b\b\b\b\b\b\b\r12\/12 [==============================] - 1s 20ms\/step - loss: 0.4497 - accuracy: 0.8136 - val_loss: 0.4559 - val_accuracy: 0.7606\n",
      "Epoch 2\/100\n",
      "\r 1\/12 [=>............................] - ETA: 0s - loss: 0.4313 - accuracy: 0.8125\b\b\b\b\b\b\b\b\b\b\b\b\b\b\b\b\b\b\b\b\b\b\b\b\b\b\b\b\b\b\b\b\b\b\b\b\b\b\b\b\b\b\b\b\b\b\b\b\b\b\b\b\b\b\b\b\b\b\b\b\b\b\b\b\b\b\b\b\b\b\b\b\b\b\b\b\b\b\b\b\b\b\r12\/12 [==============================] - 0s 5ms\/step - loss: 0.4046 - accuracy: 0.8478 - val_loss: 0.4151 - val_accuracy: 0.8404\n",
      "Epoch 3\/100\n",
      "\r 1\/12 [=>............................] - ETA: 0s - loss: 0.3704 - accuracy: 0.8750\b\b\b\b\b\b\b\b\b\b\b\b\b\b\b\b\b\b\b\b\b\b\b\b\b\b\b\b\b\b\b\b\b\b\b\b\b\b\b\b\b\b\b\b\b\b\b\b\b\b\b\b\b\b\b\b\b\b\b\b\b\b\b\b\b\b\b\b\b\b\b\b\b\b\b\b\b\b\b\b\b\b\r12\/12 [==============================] - 0s 5ms\/step - loss: 0.3695 - accuracy: 0.8819 - val_loss: 0.3805 - val_accuracy: 0.8511\n",
      "Epoch 4\/100\n",
      "\r 1\/12 [=>............................] - ETA: 0s - loss: 0.3399 - accuracy: 0.8438\b\b\b\b\b\b\b\b\b\b\b\b\b\b\b\b\b\b\b\b\b\b\b\b\b\b\b\b\b\b\b\b\b\b\b\b\b\b\b\b\b\b\b\b\b\b\b\b\b\b\b\b\b\b\b\b\b\b\b\b\b\b\b\b\b\b\b\b\b\b\b\b\b\b\b\b\b\b\b\b\b\b\r12\/12 [==============================] - 0s 6ms\/step - loss: 0.3388 - accuracy: 0.9055 - val_loss: 0.3532 - val_accuracy: 0.8564\n",
      "Epoch 5\/100\n",
      "\r 1\/12 [=>............................] - ETA: 0s - loss: 0.3223 - accuracy: 0.8750\b\b\b\b\b\b\b\b\b\b\b\b\b\b\b\b\b\b\b\b\b\b\b\b\b\b\b\b\b\b\b\b\b\b\b\b\b\b\b\b\b\b\b\b\b\b\b\b\b\b\b\b\b\b\b\b\b\b\b\b\b\b\b\b\b\b\b\b\b\b\b\b\b\b\b\b\b\b\b\b\b\b\r12\/12 [==============================] - 0s 5ms\/step - loss: 0.3147 - accuracy: 0.9029 - val_loss: 0.3309 - val_accuracy: 0.8883\n",
      "Epoch 6\/100\n",
      "\r 1\/12 [=>............................] - ETA: 0s - loss: 0.2984 - accuracy: 0.9062\b\b\b\b\b\b\b\b\b\b\b\b\b\b\b\b\b\b\b\b\b\b\b\b\b\b\b\b\b\b\b\b\b\b\b\b\b\b\b\b\b\b\b\b\b\b\b\b\b\b\b\b\b\b\b\b\b\b\b\b\b\b\b\b\b\b\b\b\b\b\b\b\b\b\b\b\b\b\b\b\b\b\r12\/12 [==============================] - 0s 6ms\/step - loss: 0.2945 - accuracy: 0.9081 - val_loss: 0.3125 - val_accuracy: 0.8830\n",
      "Epoch 7\/100\n",
      "\r 1\/12 [=>............................] - ETA: 0s - loss: 0.2594 - accuracy: 0.9375\b\b\b\b\b\b\b\b\b\b\b\b\b\b\b\b\b\b\b\b\b\b\b\b\b\b\b\b\b\b\b\b\b\b\b\b\b\b\b\b\b\b\b\b\b\b\b\b\b\b\b\b\b\b\b\b\b\b\b\b\b\b\b\b\b\b\b\b\b\b\b\b\b\b\b\b\b\b\b\b\b\b\r12\/12 [==============================] - 0s 5ms\/step - loss: 0.2778 - accuracy: 0.9108 - val_loss: 0.2970 - val_accuracy: 0.8883\n",
      "Epoch 8\/100\n",
      "\r 1\/12 [=>............................] - ETA: 0s - loss: 0.3004 - accuracy: 0.8750\b\b\b\b\b\b\b\b\b\b\b\b\b\b\b\b\b\b\b\b\b\b\b\b\b\b\b\b\b\b\b\b\b\b\b\b\b\b\b\b\b\b\b\b\b\b\b\b\b\b\b\b\b\b\b\b\b\b\b\b\b\b\b\b\b\b\b\b\b\b\b\b\b\b\b\b\b\b\b\b\b\b\r12\/12 [==============================] - 0s 5ms\/step - loss: 0.2631 - accuracy: 0.9160 - val_loss: 0.2840 - val_accuracy: 0.8989\n",
      "Epoch 9\/100\n",
      "\r 1\/12 [=>............................] - ETA: 0s - loss: 0.2921 - accuracy: 0.9375\b\b\b\b\b\b\b\b\b\b\b\b\b\b\b\b\b\b\b\b\b\b\b\b\b\b\b\b\b\b\b\b\b\b\b\b\b\b\b\b\b\b\b\b\b\b\b\b\b\b\b\b\b\b\b\b\b\b\b\b\b\b\b\b\b\b\b\b\b\b\b\b\b\b\b\b\b\b\b\b\b\b\r12\/12 [==============================] - 0s 5ms\/step - loss: 0.2508 - accuracy: 0.9160 - val_loss: 0.2726 - val_accuracy: 0.9096\n",
      "Epoch 10\/100\n",
      "\r 1\/12 [=>............................] - ETA: 0s - loss: 0.1594 - accuracy: 0.9688\b\b\b\b\b\b\b\b\b\b\b\b\b\b\b\b\b\b\b\b\b\b\b\b\b\b\b\b\b\b\b\b\b\b\b\b\b\b\b\b\b\b\b\b\b\b\b\b\b\b\b\b\b\b\b\b\b\b\b\b\b\b\b\b\b\b\b\b\b\b\b\b\b\b\b\b\b\b\b\b\b\b\r12\/12 [==============================] - 0s 5ms\/step - loss: 0.2395 - accuracy: 0.9186 - val_loss: 0.2627 - val_accuracy: 0.9149\n",
      "Epoch 11\/100\n",
      "\r 1\/12 [=>............................] - ETA: 0s - loss: 0.2292 - accuracy: 0.9375\b\b\b\b\b\b\b\b\b\b\b\b\b\b\b\b\b\b\b\b\b\b\b\b\b\b\b\b\b\b\b\b\b\b\b\b\b\b\b\b\b\b\b\b\b\b\b\b\b\b\b\b\b\b\b\b\b\b\b\b\b\b\b\b\b\b\b\b\b\b\b\b\b\b\b\b\b\b\b\b\b\b\r12\/12 [==============================] - 0s 5ms\/step - loss: 0.2300 - accuracy: 0.9186 - val_loss: 0.2538 - val_accuracy: 0.9096\n",
      "Epoch 12\/100\n",
      "\r 1\/12 [=>............................] - ETA: 0s - loss: 0.2191 - accuracy: 0.9062\b\b\b\b\b\b\b\b\b\b\b\b\b\b\b\b\b\b\b\b\b\b\b\b\b\b\b\b\b\b\b\b\b\b\b\b\b\b\b\b\b\b\b\b\b\b\b\b\b\b\b\b\b\b\b\b\b\b\b\b\b\b\b\b\b\b\b\b\b\b\b\b\b\b\b\b\b\b\b\b\b\b\r12\/12 [==============================] - 0s 6ms\/step - loss: 0.2208 - accuracy: 0.9186 - val_loss: 0.2457 - val_accuracy: 0.9149\n",
      "Epoch 13\/100\n",
      "\r 1\/12 [=>............................] - ETA: 0s - loss: 0.2749 - accuracy: 0.8438\b\b\b\b\b\b\b\b\b\b\b\b\b\b\b\b\b\b\b\b\b\b\b\b\b\b\b\b\b\b\b\b\b\b\b\b\b\b\b\b\b\b\b\b\b\b\b\b\b\b\b\b\b\b\b\b\b\b\b\b\b\b\b\b\b\b\b\b\b\b\b\b\b\b\b\b\b\b\b\b\b\b\r12\/12 [==============================] - 0s 4ms\/step - loss: 0.2129 - accuracy: 0.9213 - val_loss: 0.2384 - val_accuracy: 0.9255\n",
      "Epoch 14\/100\n",
      "\r 1\/12 [=>............................] - ETA: 0s - loss: 0.1388 - accuracy: 1.0000\b\b\b\b\b\b\b\b\b\b\b\b\b\b\b\b\b\b\b\b\b\b\b\b\b\b\b\b\b\b\b\b\b\b\b\b\b\b\b\b\b\b\b\b\b\b\b\b\b\b\b\b\b\b\b\b\b\b\b\b\b\b\b\b\b\b\b\b\b\b\b\b\b\b\b\b\b\b\b\b\b\b\r12\/12 [==============================] - 0s 5ms\/step - loss: 0.2053 - accuracy: 0.9291 - val_loss: 0.2319 - val_accuracy: 0.9362\n",
      "Epoch 15\/100\n",
      "\r 1\/12 [=>............................] - ETA: 0s - loss: 0.2048 - accuracy: 0.9375\b\b\b\b\b\b\b\b\b\b\b\b\b\b\b\b\b\b\b\b\b\b\b\b\b\b\b\b\b\b\b\b\b\b\b\b\b\b\b\b\b\b\b\b\b\b\b\b\b\b\b\b\b\b\b\b\b\b\b\b\b\b\b\b\b\b\b\b\b\b\b\b\b\b\b\b\b\b\b\b\b\b\r12\/12 [==============================] - 0s 4ms\/step - loss: 0.1985 - accuracy: 0.9291 - val_loss: 0.2259 - val_accuracy: 0.9415\n",
      "Epoch 16\/100\n",
      "\r 1\/12 [=>............................] - ETA: 0s - loss: 0.1482 - accuracy: 1.0000\b\b\b\b\b\b\b\b\b\b\b\b\b\b\b\b\b\b\b\b\b\b\b\b\b\b\b\b\b\b\b\b\b\b\b\b\b\b\b\b\b\b\b\b\b\b\b\b\b\b\b\b\b\b\b\b\b\b\b\b\b\b\b\b\b\b\b\b\b\b\b\b\b\b\b\b\b\b\b\b\b\b\r12\/12 [==============================] - 0s 4ms\/step - loss: 0.1922 - accuracy: 0.9344 - val_loss: 0.2202 - val_accuracy: 0.9362\n",
      "Epoch 17\/100\n",
      "\r 1\/12 [=>............................] - ETA: 0s - loss: 0.2654 - accuracy: 0.9062\b\b\b\b\b\b\b\b\b\b\b\b\b\b\b\b\b\b\b\b\b\b\b\b\b\b\b\b\b\b\b\b\b\b\b\b\b\b\b\b\b\b\b\b\b\b\b\b\b\b\b\b\b\b\b\b\b\b\b\b\b\b\b\b\b\b\b\b\b\b\b\b\b\b\b\b\b\b\b\b\b\b\r12\/12 [==============================] - 0s 5ms\/step - loss: 0.1865 - accuracy: 0.9344 - val_loss: 0.2148 - val_accuracy: 0.9415\n",
      "Epoch 18\/100\n",
      "\r 1\/12 [=>............................] - ETA: 0s - loss: 0.2237 - accuracy: 0.8750\b\b\b\b\b\b\b\b\b\b\b\b\b\b\b\b\b\b\b\b\b\b\b\b\b\b\b\b\b\b\b\b\b\b\b\b\b\b\b\b\b\b\b\b\b\b\b\b\b\b\b\b\b\b\b\b\b\b\b\b\b\b\b\b\b\b\b\b\b\b\b\b\b\b\b\b\b\b\b\b\b\b\r12\/12 [==============================] - 0s 6ms\/step - loss: 0.1810 - accuracy: 0.9344 - val_loss: 0.2100 - val_accuracy: 0.9415\n",
      "Epoch 19\/100\n",
      "\r 1\/12 [=>............................] - ETA: 0s - loss: 0.2142 - accuracy: 0.8438\b\b\b\b\b\b\b\b\b\b\b\b\b\b\b\b\b\b\b\b\b\b\b\b\b\b\b\b\b\b\b\b\b\b\b\b\b\b\b\b\b\b\b\b\b\b\b\b\b\b\b\b\b\b\b\b\b\b\b\b\b\b\b\b\b\b\b\b\b\b\b\b\b\b\b\b\b\b\b\b\b\b\r12\/12 [==============================] - 0s 6ms\/step - loss: 0.1761 - accuracy: 0.9344 - val_loss: 0.2053 - val_accuracy: 0.9415\n",
      "Epoch 20\/100\n",
      "\r 1\/12 [=>............................] - ETA: 0s - loss: 0.1201 - accuracy: 1.0000\b\b\b\b\b\b\b\b\b\b\b\b\b\b\b\b\b\b\b\b\b\b\b\b\b\b\b\b\b\b\b\b\b\b\b\b\b\b\b\b\b\b\b\b\b\b\b\b\b\b\b\b\b\b\b\b\b\b\b\b\b\b\b\b\b\b\b\b\b\b\b\b\b\b\b\b\b\b\b\b\b\b\r12\/12 [==============================] - 0s 5ms\/step - loss: 0.1713 - accuracy: 0.9396 - val_loss: 0.2010 - val_accuracy: 0.9521\n",
      "Epoch 21\/100\n",
      "\r 1\/12 [=>............................] - ETA: 0s - loss: 0.1264 - accuracy: 0.9688\b\b\b\b\b\b\b\b\b\b\b\b\b\b\b\b\b\b\b\b\b\b\b\b\b\b\b\b\b\b\b\b\b\b\b\b\b\b\b\b\b\b\b\b\b\b\b\b\b\b\b\b\b\b\b\b\b\b\b\b\b\b\b\b\b\b\b\b\b\b\b\b\b\b\b\b\b\b\b\b\b\b\r12\/12 [==============================] - 0s 6ms\/step - loss: 0.1667 - accuracy: 0.9396 - val_loss: 0.1972 - val_accuracy: 0.9521\n",
      "Epoch 22\/100\n",
      "\r 1\/12 [=>............................] - ETA: 0s - loss: 0.1978 - accuracy: 0.9062\b\b\b\b\b\b\b\b\b\b\b\b\b\b\b\b\b\b\b\b\b\b\b\b\b\b\b\b\b\b\b\b\b\b\b\b\b\b\b\b\b\b\b\b\b\b\b\b\b\b\b\b\b\b\b\b\b\b\b\b\b\b\b\b\b\b\b\b\b\b\b\b\b\b\b\b\b\b\b\b\b\b\r12\/12 [==============================] - 0s 5ms\/step - loss: 0.1627 - accuracy: 0.9396 - val_loss: 0.1933 - val_accuracy: 0.9521\n",
      "Epoch 23\/100\n",
      "\r 1\/12 [=>............................] - ETA: 0s - loss: 0.1793 - accuracy: 0.9375\b\b\b\b\b\b\b\b\b\b\b\b\b\b\b\b\b\b\b\b\b\b\b\b\b\b\b\b\b\b\b\b\b\b\b\b\b\b\b\b\b\b\b\b\b\b\b\b\b\b\b\b\b\b\b\b\b\b\b\b\b\b\b\b\b\b\b\b\b\b\b\b\b\b\b\b\b\b\b\b\b\b\r12\/12 [==============================] - 0s 5ms\/step - loss: 0.1588 - accuracy: 0.9396 - val_loss: 0.1897 - val_accuracy: 0.9521\n",
      "Epoch 24\/100\n",
      "\r 1\/12 [=>............................] - ETA: 0s - loss: 0.2107 - accuracy: 0.9062\b\b\b\b\b\b\b\b\b\b\b\b\b\b\b\b\b\b\b\b\b\b\b\b\b\b\b\b\b\b\b\b\b\b\b\b\b\b\b\b\b\b\b\b\b\b\b\b\b\b\b\b\b\b\b\b\b\b\b\b\b\b\b\b\b\b\b\b\b\b\b\b\b\b\b\b\b\b\b\b\b\b\r12\/12 [==============================] - 0s 6ms\/step - loss: 0.1551 - accuracy: 0.9396 - val_loss: 0.1864 - val_accuracy: 0.9521\n",
      "Epoch 25\/100\n",
      "\r 1\/12 [=>............................] - ETA: 0s - loss: 0.2821 - accuracy: 0.8750\b\b\b\b\b\b\b\b\b\b\b\b\b\b\b\b\b\b\b\b\b\b\b\b\b\b\b\b\b\b\b\b\b\b\b\b\b\b\b\b\b\b\b\b\b\b\b\b\b\b\b\b\b\b\b\b\b\b\b\b\b\b\b\b\b\b\b\b\b\b\b\b\b\b\b\b\b\b\b\b\b\b\r12\/12 [==============================] - 0s 5ms\/step - loss: 0.1517 - accuracy: 0.9501 - val_loss: 0.1832 - val_accuracy: 0.9468\n",
      "Epoch 26\/100\n",
      "\r 1\/12 [=>............................] - ETA: 0s - loss: 0.1439 - accuracy: 0.9062\b\b\b\b\b\b\b\b\b\b\b\b\b\b\b\b\b\b\b\b\b\b\b\b\b\b\b\b\b\b\b\b\b\b\b\b\b\b\b\b\b\b\b\b\b\b\b\b\b\b\b\b\b\b\b\b\b\b\b\b\b\b\b\b\b\b\b\b\b\b\b\b\b\b\b\b\b\b\b\b\b\b\r12\/12 [==============================] - 0s 5ms\/step - loss: 0.1482 - accuracy: 0.9528 - val_loss: 0.1803 - val_accuracy: 0.9468\n",
      "Epoch 27\/100\n",
      "\r 1\/12 [=>............................] - ETA: 0s - loss: 0.1178 - accuracy: 1.0000\b\b\b\b\b\b\b\b\b\b\b\b\b\b\b\b\b\b\b\b\b\b\b\b\b\b\b\b\b\b\b\b\b\b\b\b\b\b\b\b\b\b\b\b\b\b\b\b\b\b\b\b\b\b\b\b\b\b\b\b\b\b\b\b\b\b\b\b\b\b\b\b\b\b\b\b\b\b\b\b\b\b\r12\/12 [==============================] - 0s 4ms\/step - loss: 0.1452 - accuracy: 0.9528 - val_loss: 0.1775 - val_accuracy: 0.9468\n",
      "Epoch 28\/100\n",
      "\r 1\/12 [=>............................] - ETA: 0s - loss: 0.1179 - accuracy: 0.9375\b\b\b\b\b\b\b\b\b\b\b\b\b\b\b\b\b\b\b\b\b\b\b\b\b\b\b\b\b\b\b\b\b\b\b\b\b\b\b\b\b\b\b\b\b\b\b\b\b\b\b\b\b\b\b\b\b\b\b\b\b\b\b\b\b\b\b\b\b\b\b\b\b\b\b\b\b\b\b\b\b\b\r12\/12 [==============================] - 0s 4ms\/step - loss: 0.1423 - accuracy: 0.9528 - val_loss: 0.1748 - val_accuracy: 0.9468\n",
      "Epoch 29\/100\n",
      "\r 1\/12 [=>............................] - ETA: 0s - loss: 0.1732 - accuracy: 0.9375\b\b\b\b\b\b\b\b\b\b\b\b\b\b\b\b\b\b\b\b\b\b\b\b\b\b\b\b\b\b\b\b\b\b\b\b\b\b\b\b\b\b\b\b\b\b\b\b\b\b\b\b\b\b\b\b\b\b\b\b\b\b\b\b\b\b\b\b\b\b\b\b\b\b\b\b\b\b\b\b\b\b\r12\/12 [==============================] - 0s 6ms\/step - loss: 0.1395 - accuracy: 0.9554 - val_loss: 0.1722 - val_accuracy: 0.9468\n",
      "Epoch 30\/100\n",
      "\r 1\/12 [=>............................] - ETA: 0s - loss: 0.2101 - accuracy: 0.9062\b\b\b\b\b\b\b\b\b\b\b\b\b\b\b\b\b\b\b\b\b\b\b\b\b\b\b\b\b\b\b\b\b\b\b\b\b\b\b\b\b\b\b\b\b\b\b\b\b\b\b\b\b\b\b\b\b\b\b\b\b\b\b\b\b\b\b\b\b\b\b\b\b\b\b\b\b\b\b\b\b\b\r12\/12 [==============================] - 0s 5ms\/step - loss: 0.1368 - accuracy: 0.9554 - val_loss: 0.1698 - val_accuracy: 0.9521\n",
      "Epoch 31\/100\n",
      "\r 1\/12 [=>............................] - ETA: 0s - loss: 0.0810 - accuracy: 1.0000\b\b\b\b\b\b\b\b\b\b\b\b\b\b\b\b\b\b\b\b\b\b\b\b\b\b\b\b\b\b\b\b\b\b\b\b\b\b\b\b\b\b\b\b\b\b\b\b\b\b\b\b\b\b\b\b\b\b\b\b\b\b\b\b\b\b\b\b\b\b\b\b\b\b\b\b\b\b\b\b\b\b\r12\/12 [==============================] - 0s 5ms\/step - loss: 0.1343 - accuracy: 0.9554 - val_loss: 0.1675 - val_accuracy: 0.9521\n",
      "Epoch 32\/100\n",
      "\r 1\/12 [=>............................] - ETA: 0s - loss: 0.1336 - accuracy: 0.9688\b\b\b\b\b\b\b\b\b\b\b\b\b\b\b\b\b\b\b\b\b\b\b\b\b\b\b\b\b\b\b\b\b\b\b\b\b\b\b\b\b\b\b\b\b\b\b\b\b\b\b\b\b\b\b\b\b\b\b\b\b\b\b\b\b\b\b\b\b\b\b\b\b\b\b\b\b\b\b\b\b\b\r12\/12 [==============================] - 0s 4ms\/step - loss: 0.1318 - accuracy: 0.9580 - val_loss: 0.1653 - val_accuracy: 0.9521\n",
      "Epoch 33\/100\n",
      "\r 1\/12 [=>............................] - ETA: 0s - loss: 0.0850 - accuracy: 1.0000\b\b\b\b\b\b\b\b\b\b\b\b\b\b\b\b\b\b\b\b\b\b\b\b\b\b\b\b\b\b\b\b\b\b\b\b\b\b\b\b\b\b\b\b\b\b\b\b\b\b\b\b\b\b\b\b\b\b\b\b\b\b\b\b\b\b\b\b\b\b\b\b\b\b\b\b\b\b\b\b\b\b\r12\/12 [==============================] - 0s 6ms\/step - loss: 0.1295 - accuracy: 0.9606 - val_loss: 0.1632 - val_accuracy: 0.9521\n",
      "Epoch 34\/100\n",
      "\r 1\/12 [=>............................] - ETA: 0s - loss: 0.1633 - accuracy: 0.9688\b\b\b\b\b\b\b\b\b\b\b\b\b\b\b\b\b\b\b\b\b\b\b\b\b\b\b\b\b\b\b\b\b\b\b\b\b\b\b\b\b\b\b\b\b\b\b\b\b\b\b\b\b\b\b\b\b\b\b\b\b\b\b\b\b\b\b\b\b\b\b\b\b\b\b\b\b\b\b\b\b\b\r12\/12 [==============================] - 0s 4ms\/step - loss: 0.1275 - accuracy: 0.9606 - val_loss: 0.1612 - val_accuracy: 0.9521\n",
      "Epoch 35\/100\n",
      "\r 1\/12 [=>............................] - ETA: 0s - loss: 0.0999 - accuracy: 1.0000\b\b\b\b\b\b\b\b\b\b\b\b\b\b\b\b\b\b\b\b\b\b\b\b\b\b\b\b\b\b\b\b\b\b\b\b\b\b\b\b\b\b\b\b\b\b\b\b\b\b\b\b\b\b\b\b\b\b\b\b\b\b\b\b\b\b\b\b\b\b\b\b\b\b\b\b\b\b\b\b\b\b\r12\/12 [==============================] - 0s 5ms\/step - loss: 0.1252 - accuracy: 0.9633 - val_loss: 0.1594 - val_accuracy: 0.9521\n",
      "Epoch 36\/100\n",
      "\r 1\/12 [=>............................] - ETA: 0s - loss: 0.0929 - accuracy: 1.0000\b\b\b\b\b\b\b\b\b\b\b\b\b\b\b\b\b\b\b\b\b\b\b\b\b\b\b\b\b\b\b\b\b\b\b\b\b\b\b\b\b\b\b\b\b\b\b\b\b\b\b\b\b\b\b\b\b\b\b\b\b\b\b\b\b\b\b\b\b\b\b\b\b\b\b\b\b\b\b\b\b\b\r12\/12 [==============================] - 0s 5ms\/step - loss: 0.1233 - accuracy: 0.9633 - val_loss: 0.1575 - val_accuracy: 0.9521\n",
      "Epoch 37\/100\n",
      "\r 1\/12 [=>............................] - ETA: 0s - loss: 0.1043 - accuracy: 0.9688\b\b\b\b\b\b\b\b\b\b\b\b\b\b\b\b\b\b\b\b\b\b\b\b\b\b\b\b\b\b\b\b\b\b\b\b\b\b\b\b\b\b\b\b\b\b\b\b\b\b\b\b\b\b\b\b\b\b\b\b\b\b\b\b\b\b\b\b\b\b\b\b\b\b\b\b\b\b\b\b\b\b\r12\/12 [==============================] - 0s 5ms\/step - loss: 0.1214 - accuracy: 0.9659 - val_loss: 0.1558 - val_accuracy: 0.9521\n",
      "Epoch 38\/100\n",
      "\r 1\/12 [=>............................] - ETA: 0s - loss: 0.1541 - accuracy: 0.9688\b\b\b\b\b\b\b\b\b\b\b\b\b\b\b\b\b\b\b\b\b\b\b\b\b\b\b\b\b\b\b\b\b\b\b\b\b\b\b\b\b\b\b\b\b\b\b\b\b\b\b\b\b\b\b\b\b\b\b\b\b\b\b\b\b\b\b\b\b\b\b\b\b\b\b\b\b\b\b\b\b\b\r12\/12 [==============================] - 0s 4ms\/step - loss: 0.1195 - accuracy: 0.9659 - val_loss: 0.1541 - val_accuracy: 0.9521\n",
      "Epoch 39\/100\n",
      "\r 1\/12 [=>............................] - ETA: 0s - loss: 0.1160 - accuracy: 0.9688\b\b\b\b\b\b\b\b\b\b\b\b\b\b\b\b\b\b\b\b\b\b\b\b\b\b\b\b\b\b\b\b\b\b\b\b\b\b\b\b\b\b\b\b\b\b\b\b\b\b\b\b\b\b\b\b\b\b\b\b\b\b\b\b\b\b\b\b\b\b\b\b\b\b\b\b\b\b\b\b\b\b\r12\/12 [==============================] - 0s 5ms\/step - loss: 0.1178 - accuracy: 0.9659 - val_loss: 0.1526 - val_accuracy: 0.9521\n",
      "Epoch 40\/100\n",
      "\r 1\/12 [=>............................] - ETA: 0s - loss: 0.1725 - accuracy: 0.9688\b\b\b\b\b\b\b\b\b\b\b\b\b\b\b\b\b\b\b\b\b\b\b\b\b\b\b\b\b\b\b\b\b\b\b\b\b\b\b\b\b\b\b\b\b\b\b\b\b\b\b\b\b\b\b\b\b\b\b\b\b\b\b\b\b\b\b\b\b\b\b\b\b\b\b\b\b\b\b\b\b\b\r12\/12 [==============================] - 0s 5ms\/step - loss: 0.1160 - accuracy: 0.9685 - val_loss: 0.1511 - val_accuracy: 0.9521\n",
      "Epoch 41\/100\n",
      "\r 1\/12 [=>............................] - ETA: 0s - loss: 0.1712 - accuracy: 0.9375\b\b\b\b\b\b\b\b\b\b\b\b\b\b\b\b\b\b\b\b\b\b\b\b\b\b\b\b\b\b\b\b\b\b\b\b\b\b\b\b\b\b\b\b\b\b\b\b\b\b\b\b\b\b\b\b\b\b\b\b\b\b\b\b\b\b\b\b\b\b\b\b\b\b\b\b\b\b\b\b\b\b\r12\/12 [==============================] - 0s 4ms\/step - loss: 0.1144 - accuracy: 0.9685 - val_loss: 0.1496 - val_accuracy: 0.9628\n",
      "Epoch 42\/100\n",
      "\r 1\/12 [=>............................] - ETA: 0s - loss: 0.1434 - accuracy: 0.9688\b\b\b\b\b\b\b\b\b\b\b\b\b\b\b\b\b\b\b\b\b\b\b\b\b\b\b\b\b\b\b\b\b\b\b\b\b\b\b\b\b\b\b\b\b\b\b\b\b\b\b\b\b\b\b\b\b\b\b\b\b\b\b\b\b\b\b\b\b\b\b\b\b\b\b\b\b\b\b\b\b\b\r12\/12 [==============================] - 0s 4ms\/step - loss: 0.1129 - accuracy: 0.9685 - val_loss: 0.1483 - val_accuracy: 0.9628\n",
      "Epoch 43\/100\n",
      "\r 1\/12 [=>............................] - ETA: 0s - loss: 0.0841 - accuracy: 1.0000\b\b\b\b\b\b\b\b\b\b\b\b\b\b\b\b\b\b\b\b\b\b\b\b\b\b\b\b\b\b\b\b\b\b\b\b\b\b\b\b\b\b\b\b\b\b\b\b\b\b\b\b\b\b\b\b\b\b\b\b\b\b\b\b\b\b\b\b\b\b\b\b\b\b\b\b\b\b\b\b\b\b\r12\/12 [==============================] - 0s 6ms\/step - loss: 0.1114 - accuracy: 0.9685 - val_loss: 0.1470 - val_accuracy: 0.9628\n",
      "Epoch 44\/100\n",
      "\r 1\/12 [=>............................] - ETA: 0s - loss: 0.0980 - accuracy: 0.9688\b\b\b\b\b\b\b\b\b\b\b\b\b\b\b\b\b\b\b\b\b\b\b\b\b\b\b\b\b\b\b\b\b\b\b\b\b\b\b\b\b\b\b\b\b\b\b\b\b\b\b\b\b\b\b\b\b\b\b\b\b\b\b\b\b\b\b\b\b\b\b\b\b\b\b\b\b\b\b\b\b\b\r12\/12 [==============================] - 0s 5ms\/step - loss: 0.1099 - accuracy: 0.9685 - val_loss: 0.1457 - val_accuracy: 0.9628\n",
      "Epoch 45\/100\n",
      "\r 1\/12 [=>............................] - ETA: 0s - loss: 0.1142 - accuracy: 0.9688\b\b\b\b\b\b\b\b\b\b\b\b\b\b\b\b\b\b\b\b\b\b\b\b\b\b\b\b\b\b\b\b\b\b\b\b\b\b\b\b\b\b\b\b\b\b\b\b\b\b\b\b\b\b\b\b\b\b\b\b\b\b\b\b\b\b\b\b\b\b\b\b\b\b\b\b\b\b\b\b\b\b\r12\/12 [==============================] - 0s 4ms\/step - loss: 0.1085 - accuracy: 0.9685 - val_loss: 0.1444 - val_accuracy: 0.9628\n",
      "Epoch 46\/100\n",
      "\r 1\/12 [=>............................] - ETA: 0s - loss: 0.0937 - accuracy: 0.9688\b\b\b\b\b\b\b\b\b\b\b\b\b\b\b\b\b\b\b\b\b\b\b\b\b\b\b\b\b\b\b\b\b\b\b\b\b\b\b\b\b\b\b\b\b\b\b\b\b\b\b\b\b\b\b\b\b\b\b\b\b\b\b\b\b\b\b\b\b\b\b\b\b\b\b\b\b\b\b\b\b\b\r12\/12 [==============================] - 0s 5ms\/step - loss: 0.1072 - accuracy: 0.9685 - val_loss: 0.1433 - val_accuracy: 0.9574\n",
      "Epoch 47\/100\n",
      "\r 1\/12 [=>............................] - ETA: 0s - loss: 0.0922 - accuracy: 1.0000\b\b\b\b\b\b\b\b\b\b\b\b\b\b\b\b\b\b\b\b\b\b\b\b\b\b\b\b\b\b\b\b\b\b\b\b\b\b\b\b\b\b\b\b\b\b\b\b\b\b\b\b\b\b\b\b\b\b\b\b\b\b\b\b\b\b\b\b\b\b\b\b\b\b\b\b\b\b\b\b\b\b\r12\/12 [==============================] - 0s 4ms\/step - loss: 0.1058 - accuracy: 0.9685 - val_loss: 0.1421 - val_accuracy: 0.9574\n",
      "Epoch 48\/100\n",
      "\r 1\/12 [=>............................] - ETA: 0s - loss: 0.0724 - accuracy: 1.0000\b\b\b\b\b\b\b\b\b\b\b\b\b\b\b\b\b\b\b\b\b\b\b\b\b\b\b\b\b\b\b\b\b\b\b\b\b\b\b\b\b\b\b\b\b\b\b\b\b\b\b\b\b\b\b\b\b\b\b\b\b\b\b\b\b\b\b\b\b\b\b\b\b\b\b\b\b\b\b\b\b\b\r12\/12 [==============================] - 0s 5ms\/step - loss: 0.1046 - accuracy: 0.9685 - val_loss: 0.1411 - val_accuracy: 0.9574\n",
      "Epoch 49\/100\n",
      "\r 1\/12 [=>............................] - ETA: 0s - loss: 0.1183 - accuracy: 0.9688\b\b\b\b\b\b\b\b\b\b\b\b\b\b\b\b\b\b\b\b\b\b\b\b\b\b\b\b\b\b\b\b\b\b\b\b\b\b\b\b\b\b\b\b\b\b\b\b\b\b\b\b\b\b\b\b\b\b\b\b\b\b\b\b\b\b\b\b\b\b\b\b\b\b\b\b\b\b\b\b\b\b\r12\/12 [==============================] - 0s 5ms\/step - loss: 0.1034 - accuracy: 0.9711 - val_loss: 0.1399 - val_accuracy: 0.9574\n",
      "Epoch 50\/100\n",
      "\r 1\/12 [=>............................] - ETA: 0s - loss: 0.0924 - accuracy: 1.0000\b\b\b\b\b\b\b\b\b\b\b\b\b\b\b\b\b\b\b\b\b\b\b\b\b\b\b\b\b\b\b\b\b\b\b\b\b\b\b\b\b\b\b\b\b\b\b\b\b\b\b\b\b\b\b\b\b\b\b\b\b\b\b\b\b\b\b\b\b\b\b\b\b\b\b\b\b\b\b\b\b\b\r12\/12 [==============================] - 0s 4ms\/step - loss: 0.1022 - accuracy: 0.9738 - val_loss: 0.1390 - val_accuracy: 0.9574\n",
      "Epoch 51\/100\n",
      "\r 1\/12 [=>............................] - ETA: 0s - loss: 0.1346 - accuracy: 0.9688\b\b\b\b\b\b\b\b\b\b\b\b\b\b\b\b\b\b\b\b\b\b\b\b\b\b\b\b\b\b\b\b\b\b\b\b\b\b\b\b\b\b\b\b\b\b\b\b\b\b\b\b\b\b\b\b\b\b\b\b\b\b\b\b\b\b\b\b\b\b\b\b\b\b\b\b\b\b\b\b\b\b\r12\/12 [==============================] - 0s 4ms\/step - loss: 0.1010 - accuracy: 0.9764 - val_loss: 0.1380 - val_accuracy: 0.9574\n",
      "Epoch 52\/100\n",
      "\r 1\/12 [=>............................] - ETA: 0s - loss: 0.1993 - accuracy: 0.9062\b\b\b\b\b\b\b\b\b\b\b\b\b\b\b\b\b\b\b\b\b\b\b\b\b\b\b\b\b\b\b\b\b\b\b\b\b\b\b\b\b\b\b\b\b\b\b\b\b\b\b\b\b\b\b\b\b\b\b\b\b\b\b\b\b\b\b\b\b\b\b\b\b\b\b\b\b\b\b\b\b\b\r12\/12 [==============================] - 0s 4ms\/step - loss: 0.1000 - accuracy: 0.9764 - val_loss: 0.1370 - val_accuracy: 0.9574\n",
      "Epoch 53\/100\n",
      "\r 1\/12 [=>............................] - ETA: 0s - loss: 0.1041 - accuracy: 0.9688\b\b\b\b\b\b\b\b\b\b\b\b\b\b\b\b\b\b\b\b\b\b\b\b\b\b\b\b\b\b\b\b\b\b\b\b\b\b\b\b\b\b\b\b\b\b\b\b\b\b\b\b\b\b\b\b\b\b\b\b\b\b\b\b\b\b\b\b\b\b\b\b\b\b\b\b\b\b\b\b\b\b\r12\/12 [==============================] - 0s 5ms\/step - loss: 0.0989 - accuracy: 0.9764 - val_loss: 0.1361 - val_accuracy: 0.9574\n",
      "Epoch 54\/100\n",
      "\r 1\/12 [=>............................] - ETA: 0s - loss: 0.1094 - accuracy: 0.9688\b\b\b\b\b\b\b\b\b\b\b\b\b\b\b\b\b\b\b\b\b\b\b\b\b\b\b\b\b\b\b\b\b\b\b\b\b\b\b\b\b\b\b\b\b\b\b\b\b\b\b\b\b\b\b\b\b\b\b\b\b\b\b\b\b\b\b\b\b\b\b\b\b\b\b\b\b\b\b\b\b\b\r12\/12 [==============================] - 0s 5ms\/step - loss: 0.0978 - accuracy: 0.9764 - val_loss: 0.1353 - val_accuracy: 0.9574\n",
      "Epoch 55\/100\n",
      "\r 1\/12 [=>............................] - ETA: 0s - loss: 0.0835 - accuracy: 1.0000\b\b\b\b\b\b\b\b\b\b\b\b\b\b\b\b\b\b\b\b\b\b\b\b\b\b\b\b\b\b\b\b\b\b\b\b\b\b\b\b\b\b\b\b\b\b\b\b\b\b\b\b\b\b\b\b\b\b\b\b\b\b\b\b\b\b\b\b\b\b\b\b\b\b\b\b\b\b\b\b\b\b\r12\/12 [==============================] - 0s 4ms\/step - loss: 0.0968 - accuracy: 0.9764 - val_loss: 0.1344 - val_accuracy: 0.9574\n",
      "Epoch 56\/100\n",
      "\r 1\/12 [=>............................] - ETA: 0s - loss: 0.1501 - accuracy: 0.9688\b\b\b\b\b\b\b\b\b\b\b\b\b\b\b\b\b\b\b\b\b\b\b\b\b\b\b\b\b\b\b\b\b\b\b\b\b\b\b\b\b\b\b\b\b\b\b\b\b\b\b\b\b\b\b\b\b\b\b\b\b\b\b\b\b\b\b\b\b\b\b\b\b\b\b\b\b\b\b\b\b\b\r12\/12 [==============================] - 0s 5ms\/step - loss: 0.0959 - accuracy: 0.9764 - val_loss: 0.1336 - val_accuracy: 0.9574\n",
      "Epoch 57\/100\n",
      "\r 1\/12 [=>............................] - ETA: 0s - loss: 0.0617 - accuracy: 0.9688\b\b\b\b\b\b\b\b\b\b\b\b\b\b\b\b\b\b\b\b\b\b\b\b\b\b\b\b\b\b\b\b\b\b\b\b\b\b\b\b\b\b\b\b\b\b\b\b\b\b\b\b\b\b\b\b\b\b\b\b\b\b\b\b\b\b\b\b\b\b\b\b\b\b\b\b\b\b\b\b\b\b\r12\/12 [==============================] - 0s 4ms\/step - loss: 0.0949 - accuracy: 0.9764 - val_loss: 0.1328 - val_accuracy: 0.9574\n",
      "Epoch 58\/100\n",
      "\r 1\/12 [=>............................] - ETA: 0s - loss: 0.1140 - accuracy: 0.9688\b\b\b\b\b\b\b\b\b\b\b\b\b\b\b\b\b\b\b\b\b\b\b\b\b\b\b\b\b\b\b\b\b\b\b\b\b\b\b\b\b\b\b\b\b\b\b\b\b\b\b\b\b\b\b\b\b\b\b\b\b\b\b\b\b\b\b\b\b\b\b\b\b\b\b\b\b\b\b\b\b\b\r12\/12 [==============================] - 0s 4ms\/step - loss: 0.0940 - accuracy: 0.9764 - val_loss: 0.1321 - val_accuracy: 0.9574\n",
      "Epoch 59\/100\n",
      "\r 1\/12 [=>............................] - ETA: 0s - loss: 0.1221 - accuracy: 0.9375\b\b\b\b\b\b\b\b\b\b\b\b\b\b\b\b\b\b\b\b\b\b\b\b\b\b\b\b\b\b\b\b\b\b\b\b\b\b\b\b\b\b\b\b\b\b\b\b\b\b\b\b\b\b\b\b\b\b\b\b\b\b\b\b\b\b\b\b\b\b\b\b\b\b\b\b\b\b\b\b\b\b\r12\/12 [==============================] - 0s 5ms\/step - loss: 0.0931 - accuracy: 0.9764 - val_loss: 0.1314 - val_accuracy: 0.9574\n",
      "Epoch 60\/100\n",
      "\r 1\/12 [=>............................] - ETA: 0s - loss: 0.0796 - accuracy: 0.9688\b\b\b\b\b\b\b\b\b\b\b\b\b\b\b\b\b\b\b\b\b\b\b\b\b\b\b\b\b\b\b\b\b\b\b\b\b\b\b\b\b\b\b\b\b\b\b\b\b\b\b\b\b\b\b\b\b\b\b\b\b\b\b\b\b\b\b\b\b\b\b\b\b\b\b\b\b\b\b\b\b\b\r12\/12 [==============================] - 0s 6ms\/step - loss: 0.0921 - accuracy: 0.9764 - val_loss: 0.1306 - val_accuracy: 0.9574\n",
      "Epoch 61\/100\n",
      "\r 1\/12 [=>............................] - ETA: 0s - loss: 0.1278 - accuracy: 0.9375\b\b\b\b\b\b\b\b\b\b\b\b\b\b\b\b\b\b\b\b\b\b\b\b\b\b\b\b\b\b\b\b\b\b\b\b\b\b\b\b\b\b\b\b\b\b\b\b\b\b\b\b\b\b\b\b\b\b\b\b\b\b\b\b\b\b\b\b\b\b\b\b\b\b\b\b\b\b\b\b\b\b\r12\/12 [==============================] - 0s 4ms\/step - loss: 0.0914 - accuracy: 0.9764 - val_loss: 0.1299 - val_accuracy: 0.9574\n",
      "Epoch 62\/100\n",
      "\r 1\/12 [=>............................] - ETA: 0s - loss: 0.0594 - accuracy: 1.0000\b\b\b\b\b\b\b\b\b\b\b\b\b\b\b\b\b\b\b\b\b\b\b\b\b\b\b\b\b\b\b\b\b\b\b\b\b\b\b\b\b\b\b\b\b\b\b\b\b\b\b\b\b\b\b\b\b\b\b\b\b\b\b\b\b\b\b\b\b\b\b\b\b\b\b\b\b\b\b\b\b\b\r12\/12 [==============================] - 0s 5ms\/step - loss: 0.0905 - accuracy: 0.9790 - val_loss: 0.1292 - val_accuracy: 0.9574\n",
      "Epoch 63\/100\n",
      "\r 1\/12 [=>............................] - ETA: 0s - loss: 0.0982 - accuracy: 0.9688\b\b\b\b\b\b\b\b\b\b\b\b\b\b\b\b\b\b\b\b\b\b\b\b\b\b\b\b\b\b\b\b\b\b\b\b\b\b\b\b\b\b\b\b\b\b\b\b\b\b\b\b\b\b\b\b\b\b\b\b\b\b\b\b\b\b\b\b\b\b\b\b\b\b\b\b\b\b\b\b\b\b\r12\/12 [==============================] - 0s 5ms\/step - loss: 0.0897 - accuracy: 0.9790 - val_loss: 0.1285 - val_accuracy: 0.9628\n",
      "Epoch 64\/100\n",
      "\r 1\/12 [=>............................] - ETA: 0s - loss: 0.0484 - accuracy: 1.0000\b\b\b\b\b\b\b\b\b\b\b\b\b\b\b\b\b\b\b\b\b\b\b\b\b\b\b\b\b\b\b\b\b\b\b\b\b\b\b\b\b\b\b\b\b\b\b\b\b\b\b\b\b\b\b\b\b\b\b\b\b\b\b\b\b\b\b\b\b\b\b\b\b\b\b\b\b\b\b\b\b\b\r12\/12 [==============================] - 0s 4ms\/step - loss: 0.0889 - accuracy: 0.9790 - val_loss: 0.1279 - val_accuracy: 0.9628\n",
      "Epoch 65\/100\n",
      "\r 1\/12 [=>............................] - ETA: 0s - loss: 0.0691 - accuracy: 0.9688\b\b\b\b\b\b\b\b\b\b\b\b\b\b\b\b\b\b\b\b\b\b\b\b\b\b\b\b\b\b\b\b\b\b\b\b\b\b\b\b\b\b\b\b\b\b\b\b\b\b\b\b\b\b\b\b\b\b\b\b\b\b\b\b\b\b\b\b\b\b\b\b\b\b\b\b\b\b\b\b\b\b\r12\/12 [==============================] - 0s 5ms\/step - loss: 0.0881 - accuracy: 0.9816 - val_loss: 0.1273 - val_accuracy: 0.9628\n",
      "Epoch 66\/100\n",
      "\r 1\/12 [=>............................] - ETA: 0s - loss: 0.0659 - accuracy: 0.9688\b\b\b\b\b\b\b\b\b\b\b\b\b\b\b\b\b\b\b\b\b\b\b\b\b\b\b\b\b\b\b\b\b\b\b\b\b\b\b\b\b\b\b\b\b\b\b\b\b\b\b\b\b\b\b\b\b\b\b\b\b\b\b\b\b\b\b\b\b\b\b\b\b\b\b\b\b\b\b\b\b\b\r12\/12 [==============================] - 0s 5ms\/step - loss: 0.0874 - accuracy: 0.9816 - val_loss: 0.1267 - val_accuracy: 0.9628\n",
      "Epoch 67\/100\n",
      "\r 1\/12 [=>............................] - ETA: 0s - loss: 0.1015 - accuracy: 0.9688\b\b\b\b\b\b\b\b\b\b\b\b\b\b\b\b\b\b\b\b\b\b\b\b\b\b\b\b\b\b\b\b\b\b\b\b\b\b\b\b\b\b\b\b\b\b\b\b\b\b\b\b\b\b\b\b\b\b\b\b\b\b\b\b\b\b\b\b\b\b\b\b\b\b\b\b\b\b\b\b\b\b\r12\/12 [==============================] - 0s 4ms\/step - loss: 0.0866 - accuracy: 0.9816 - val_loss: 0.1262 - val_accuracy: 0.9628\n",
      "Epoch 68\/100\n",
      "\r 1\/12 [=>............................] - ETA: 0s - loss: 0.0723 - accuracy: 1.0000\b\b\b\b\b\b\b\b\b\b\b\b\b\b\b\b\b\b\b\b\b\b\b\b\b\b\b\b\b\b\b\b\b\b\b\b\b\b\b\b\b\b\b\b\b\b\b\b\b\b\b\b\b\b\b\b\b\b\b\b\b\b\b\b\b\b\b\b\b\b\b\b\b\b\b\b\b\b\b\b\b\b\r12\/12 [==============================] - 0s 4ms\/step - loss: 0.0859 - accuracy: 0.9816 - val_loss: 0.1256 - val_accuracy: 0.9628\n",
      "Epoch 69\/100\n",
      "\r 1\/12 [=>............................] - ETA: 0s - loss: 0.0586 - accuracy: 1.0000\b\b\b\b\b\b\b\b\b\b\b\b\b\b\b\b\b\b\b\b\b\b\b\b\b\b\b\b\b\b\b\b\b\b\b\b\b\b\b\b\b\b\b\b\b\b\b\b\b\b\b\b\b\b\b\b\b\b\b\b\b\b\b\b\b\b\b\b\b\b\b\b\b\b\b\b\b\b\b\b\b\b\r12\/12 [==============================] - 0s 5ms\/step - loss: 0.0852 - accuracy: 0.9816 - val_loss: 0.1251 - val_accuracy: 0.9628\n",
      "Epoch 70\/100\n",
      "\r 1\/12 [=>............................] - ETA: 0s - loss: 0.1089 - accuracy: 0.9375\b\b\b\b\b\b\b\b\b\b\b\b\b\b\b\b\b\b\b\b\b\b\b\b\b\b\b\b\b\b\b\b\b\b\b\b\b\b\b\b\b\b\b\b\b\b\b\b\b\b\b\b\b\b\b\b\b\b\b\b\b\b\b\b\b\b\b\b\b\b\b\b\b\b\b\b\b\b\b\b\b\b\r12\/12 [==============================] - 0s 5ms\/step - loss: 0.0845 - accuracy: 0.9816 - val_loss: 0.1245 - val_accuracy: 0.9628\n",
      "Epoch 71\/100\n",
      "\r 1\/12 [=>............................] - ETA: 0s - loss: 0.0669 - accuracy: 1.0000\b\b\b\b\b\b\b\b\b\b\b\b\b\b\b\b\b\b\b\b\b\b\b\b\b\b\b\b\b\b\b\b\b\b\b\b\b\b\b\b\b\b\b\b\b\b\b\b\b\b\b\b\b\b\b\b\b\b\b\b\b\b\b\b\b\b\b\b\b\b\b\b\b\b\b\b\b\b\b\b\b\b\r12\/12 [==============================] - 0s 4ms\/step - loss: 0.0839 - accuracy: 0.9816 - val_loss: 0.1240 - val_accuracy: 0.9628\n",
      "Epoch 72\/100\n",
      "\r 1\/12 [=>............................] - ETA: 0s - loss: 0.0595 - accuracy: 1.0000\b\b\b\b\b\b\b\b\b\b\b\b\b\b\b\b\b\b\b\b\b\b\b\b\b\b\b\b\b\b\b\b\b\b\b\b\b\b\b\b\b\b\b\b\b\b\b\b\b\b\b\b\b\b\b\b\b\b\b\b\b\b\b\b\b\b\b\b\b\b\b\b\b\b\b\b\b\b\b\b\b\b\r12\/12 [==============================] - 0s 4ms\/step - loss: 0.0832 - accuracy: 0.9816 - val_loss: 0.1235 - val_accuracy: 0.9628\n",
      "Epoch 73\/100\n",
      "\r 1\/12 [=>............................] - ETA: 0s - loss: 0.0404 - accuracy: 1.0000\b\b\b\b\b\b\b\b\b\b\b\b\b\b\b\b\b\b\b\b\b\b\b\b\b\b\b\b\b\b\b\b\b\b\b\b\b\b\b\b\b\b\b\b\b\b\b\b\b\b\b\b\b\b\b\b\b\b\b\b\b\b\b\b\b\b\b\b\b\b\b\b\b\b\b\b\b\b\b\b\b\b\r12\/12 [==============================] - 0s 4ms\/step - loss: 0.0826 - accuracy: 0.9816 - val_loss: 0.1230 - val_accuracy: 0.9628\n",
      "Epoch 74\/100\n",
      "\r 1\/12 [=>............................] - ETA: 0s - loss: 0.0377 - accuracy: 1.0000\b\b\b\b\b\b\b\b\b\b\b\b\b\b\b\b\b\b\b\b\b\b\b\b\b\b\b\b\b\b\b\b\b\b\b\b\b\b\b\b\b\b\b\b\b\b\b\b\b\b\b\b\b\b\b\b\b\b\b\b\b\b\b\b\b\b\b\b\b\b\b\b\b\b\b\b\b\b\b\b\b\b\r12\/12 [==============================] - 0s 4ms\/step - loss: 0.0820 - accuracy: 0.9816 - val_loss: 0.1225 - val_accuracy: 0.9628\n",
      "Epoch 75\/100\n",
      "\r 1\/12 [=>............................] - ETA: 0s - loss: 0.0735 - accuracy: 1.0000\b\b\b\b\b\b\b\b\b\b\b\b\b\b\b\b\b\b\b\b\b\b\b\b\b\b\b\b\b\b\b\b\b\b\b\b\b\b\b\b\b\b\b\b\b\b\b\b\b\b\b\b\b\b\b\b\b\b\b\b\b\b\b\b\b\b\b\b\b\b\b\b\b\b\b\b\b\b\b\b\b\b\r12\/12 [==============================] - 0s 4ms\/step - loss: 0.0814 - accuracy: 0.9816 - val_loss: 0.1220 - val_accuracy: 0.9628\n",
      "Epoch 76\/100\n",
      "\r 1\/12 [=>............................] - ETA: 0s - loss: 0.0896 - accuracy: 0.9688\b\b\b\b\b\b\b\b\b\b\b\b\b\b\b\b\b\b\b\b\b\b\b\b\b\b\b\b\b\b\b\b\b\b\b\b\b\b\b\b\b\b\b\b\b\b\b\b\b\b\b\b\b\b\b\b\b\b\b\b\b\b\b\b\b\b\b\b\b\b\b\b\b\b\b\b\b\b\b\b\b\b\r12\/12 [==============================] - 0s 5ms\/step - loss: 0.0808 - accuracy: 0.9816 - val_loss: 0.1217 - val_accuracy: 0.9628\n",
      "Epoch 77\/100\n",
      "\r 1\/12 [=>............................] - ETA: 0s - loss: 0.0353 - accuracy: 1.0000\b\b\b\b\b\b\b\b\b\b\b\b\b\b\b\b\b\b\b\b\b\b\b\b\b\b\b\b\b\b\b\b\b\b\b\b\b\b\b\b\b\b\b\b\b\b\b\b\b\b\b\b\b\b\b\b\b\b\b\b\b\b\b\b\b\b\b\b\b\b\b\b\b\b\b\b\b\b\b\b\b\b\r12\/12 [==============================] - 0s 5ms\/step - loss: 0.0802 - accuracy: 0.9816 - val_loss: 0.1212 - val_accuracy: 0.9628\n",
      "Epoch 78\/100\n",
      "\r 1\/12 [=>............................] - ETA: 0s - loss: 0.0533 - accuracy: 1.0000\b\b\b\b\b\b\b\b\b\b\b\b\b\b\b\b\b\b\b\b\b\b\b\b\b\b\b\b\b\b\b\b\b\b\b\b\b\b\b\b\b\b\b\b\b\b\b\b\b\b\b\b\b\b\b\b\b\b\b\b\b\b\b\b\b\b\b\b\b\b\b\b\b\b\b\b\b\b\b\b\b\b\r12\/12 [==============================] - 0s 5ms\/step - loss: 0.0796 - accuracy: 0.9816 - val_loss: 0.1207 - val_accuracy: 0.9628\n",
      "Epoch 79\/100\n",
      "\r 1\/12 [=>............................] - ETA: 0s - loss: 0.0518 - accuracy: 1.0000\b\b\b\b\b\b\b\b\b\b\b\b\b\b\b\b\b\b\b\b\b\b\b\b\b\b\b\b\b\b\b\b\b\b\b\b\b\b\b\b\b\b\b\b\b\b\b\b\b\b\b\b\b\b\b\b\b\b\b\b\b\b\b\b\b\b\b\b\b\b\b\b\b\b\b\b\b\b\b\b\b\b\r12\/12 [==============================] - 0s 6ms\/step - loss: 0.0791 - accuracy: 0.9816 - val_loss: 0.1204 - val_accuracy: 0.9628\n",
      "Epoch 80\/100\n",
      "\r 1\/12 [=>............................] - ETA: 0s - loss: 0.0621 - accuracy: 1.0000\b\b\b\b\b\b\b\b\b\b\b\b\b\b\b\b\b\b\b\b\b\b\b\b\b\b\b\b\b\b\b\b\b\b\b\b\b\b\b\b\b\b\b\b\b\b\b\b\b\b\b\b\b\b\b\b\b\b\b\b\b\b\b\b\b\b\b\b\b\b\b\b\b\b\b\b\b\b\b\b\b\b\r12\/12 [==============================] - 0s 4ms\/step - loss: 0.0785 - accuracy: 0.9816 - val_loss: 0.1199 - val_accuracy: 0.9628\n",
      "Epoch 81\/100\n",
      "\r 1\/12 [=>............................] - ETA: 0s - loss: 0.0556 - accuracy: 1.0000\b\b\b\b\b\b\b\b\b\b\b\b\b\b\b\b\b\b\b\b\b\b\b\b\b\b\b\b\b\b\b\b\b\b\b\b\b\b\b\b\b\b\b\b\b\b\b\b\b\b\b\b\b\b\b\b\b\b\b\b\b\b\b\b\b\b\b\b\b\b\b\b\b\b\b\b\b\b\b\b\b\b\r12\/12 [==============================] - 0s 5ms\/step - loss: 0.0780 - accuracy: 0.9816 - val_loss: 0.1195 - val_accuracy: 0.9628\n",
      "Epoch 82\/100\n",
      "\r 1\/12 [=>............................] - ETA: 0s - loss: 0.0647 - accuracy: 1.0000\b\b\b\b\b\b\b\b\b\b\b\b\b\b\b\b\b\b\b\b\b\b\b\b\b\b\b\b\b\b\b\b\b\b\b\b\b\b\b\b\b\b\b\b\b\b\b\b\b\b\b\b\b\b\b\b\b\b\b\b\b\b\b\b\b\b\b\b\b\b\b\b\b\b\b\b\b\b\b\b\b\b\r12\/12 [==============================] - 0s 5ms\/step - loss: 0.0774 - accuracy: 0.9816 - val_loss: 0.1191 - val_accuracy: 0.9628\n",
      "Epoch 83\/100\n",
      "\r 1\/12 [=>............................] - ETA: 0s - loss: 0.0748 - accuracy: 1.0000\b\b\b\b\b\b\b\b\b\b\b\b\b\b\b\b\b\b\b\b\b\b\b\b\b\b\b\b\b\b\b\b\b\b\b\b\b\b\b\b\b\b\b\b\b\b\b\b\b\b\b\b\b\b\b\b\b\b\b\b\b\b\b\b\b\b\b\b\b\b\b\b\b\b\b\b\b\b\b\b\b\b\r12\/12 [==============================] - 0s 4ms\/step - loss: 0.0769 - accuracy: 0.9816 - val_loss: 0.1188 - val_accuracy: 0.9628\n",
      "Epoch 84\/100\n",
      "\r 1\/12 [=>............................] - ETA: 0s - loss: 0.1223 - accuracy: 0.9688\b\b\b\b\b\b\b\b\b\b\b\b\b\b\b\b\b\b\b\b\b\b\b\b\b\b\b\b\b\b\b\b\b\b\b\b\b\b\b\b\b\b\b\b\b\b\b\b\b\b\b\b\b\b\b\b\b\b\b\b\b\b\b\b\b\b\b\b\b\b\b\b\b\b\b\b\b\b\b\b\b\b\r12\/12 [==============================] - 0s 5ms\/step - loss: 0.0764 - accuracy: 0.9816 - val_loss: 0.1185 - val_accuracy: 0.9628\n",
      "Epoch 85\/100\n",
      "\r 1\/12 [=>............................] - ETA: 0s - loss: 0.0877 - accuracy: 0.9688\b\b\b\b\b\b\b\b\b\b\b\b\b\b\b\b\b\b\b\b\b\b\b\b\b\b\b\b\b\b\b\b\b\b\b\b\b\b\b\b\b\b\b\b\b\b\b\b\b\b\b\b\b\b\b\b\b\b\b\b\b\b\b\b\b\b\b\b\b\b\b\b\b\b\b\b\b\b\b\b\b\b\r12\/12 [==============================] - 0s 4ms\/step - loss: 0.0759 - accuracy: 0.9816 - val_loss: 0.1181 - val_accuracy: 0.9628\n",
      "Epoch 86\/100\n",
      "\r 1\/12 [=>............................] - ETA: 0s - loss: 0.0474 - accuracy: 1.0000\b\b\b\b\b\b\b\b\b\b\b\b\b\b\b\b\b\b\b\b\b\b\b\b\b\b\b\b\b\b\b\b\b\b\b\b\b\b\b\b\b\b\b\b\b\b\b\b\b\b\b\b\b\b\b\b\b\b\b\b\b\b\b\b\b\b\b\b\b\b\b\b\b\b\b\b\b\b\b\b\b\b\r12\/12 [==============================] - 0s 5ms\/step - loss: 0.0754 - accuracy: 0.9816 - val_loss: 0.1177 - val_accuracy: 0.9681\n",
      "Epoch 87\/100\n",
      "\r 1\/12 [=>............................] - ETA: 0s - loss: 0.0447 - accuracy: 1.0000\b\b\b\b\b\b\b\b\b\b\b\b\b\b\b\b\b\b\b\b\b\b\b\b\b\b\b\b\b\b\b\b\b\b\b\b\b\b\b\b\b\b\b\b\b\b\b\b\b\b\b\b\b\b\b\b\b\b\b\b\b\b\b\b\b\b\b\b\b\b\b\b\b\b\b\b\b\b\b\b\b\b\r12\/12 [==============================] - 0s 5ms\/step - loss: 0.0749 - accuracy: 0.9816 - val_loss: 0.1174 - val_accuracy: 0.9681\n",
      "Epoch 88\/100\n",
      "\r 1\/12 [=>............................] - ETA: 0s - loss: 0.1130 - accuracy: 0.9688\b\b\b\b\b\b\b\b\b\b\b\b\b\b\b\b\b\b\b\b\b\b\b\b\b\b\b\b\b\b\b\b\b\b\b\b\b\b\b\b\b\b\b\b\b\b\b\b\b\b\b\b\b\b\b\b\b\b\b\b\b\b\b\b\b\b\b\b\b\b\b\b\b\b\b\b\b\b\b\b\b\b\r12\/12 [==============================] - 0s 4ms\/step - loss: 0.0745 - accuracy: 0.9816 - val_loss: 0.1171 - val_accuracy: 0.9734\n",
      "Epoch 89\/100\n",
      "\r 1\/12 [=>............................] - ETA: 0s - loss: 0.0541 - accuracy: 1.0000\b\b\b\b\b\b\b\b\b\b\b\b\b\b\b\b\b\b\b\b\b\b\b\b\b\b\b\b\b\b\b\b\b\b\b\b\b\b\b\b\b\b\b\b\b\b\b\b\b\b\b\b\b\b\b\b\b\b\b\b\b\b\b\b\b\b\b\b\b\b\b\b\b\b\b\b\b\b\b\b\b\b\r12\/12 [==============================] - 0s 4ms\/step - loss: 0.0740 - accuracy: 0.9816 - val_loss: 0.1168 - val_accuracy: 0.9734\n",
      "Epoch 90\/100\n",
      "\r 1\/12 [=>............................] - ETA: 0s - loss: 0.0960 - accuracy: 0.9688\b\b\b\b\b\b\b\b\b\b\b\b\b\b\b\b\b\b\b\b\b\b\b\b\b\b\b\b\b\b\b\b\b\b\b\b\b\b\b\b\b\b\b\b\b\b\b\b\b\b\b\b\b\b\b\b\b\b\b\b\b\b\b\b\b\b\b\b\b\b\b\b\b\b\b\b\b\b\b\b\b\b\r12\/12 [==============================] - 0s 5ms\/step - loss: 0.0735 - accuracy: 0.9843 - val_loss: 0.1165 - val_accuracy: 0.9734\n",
      "Epoch 91\/100\n",
      "\r 1\/12 [=>............................] - ETA: 0s - loss: 0.0577 - accuracy: 0.9688\b\b\b\b\b\b\b\b\b\b\b\b\b\b\b\b\b\b\b\b\b\b\b\b\b\b\b\b\b\b\b\b\b\b\b\b\b\b\b\b\b\b\b\b\b\b\b\b\b\b\b\b\b\b\b\b\b\b\b\b\b\b\b\b\b\b\b\b\b\b\b\b\b\b\b\b\b\b\b\b\b\b\r12\/12 [==============================] - 0s 4ms\/step - loss: 0.0731 - accuracy: 0.9843 - val_loss: 0.1161 - val_accuracy: 0.9734\n",
      "Epoch 92\/100\n",
      "\r 1\/12 [=>............................] - ETA: 0s - loss: 0.0769 - accuracy: 0.9688\b\b\b\b\b\b\b\b\b\b\b\b\b\b\b\b\b\b\b\b\b\b\b\b\b\b\b\b\b\b\b\b\b\b\b\b\b\b\b\b\b\b\b\b\b\b\b\b\b\b\b\b\b\b\b\b\b\b\b\b\b\b\b\b\b\b\b\b\b\b\b\b\b\b\b\b\b\b\b\b\b\b\r12\/12 [==============================] - 0s 5ms\/step - loss: 0.0727 - accuracy: 0.9843 - val_loss: 0.1158 - val_accuracy: 0.9734\n",
      "Epoch 93\/100\n",
      "\r 1\/12 [=>............................] - ETA: 0s - loss: 0.1173 - accuracy: 0.9688\b\b\b\b\b\b\b\b\b\b\b\b\b\b\b\b\b\b\b\b\b\b\b\b\b\b\b\b\b\b\b\b\b\b\b\b\b\b\b\b\b\b\b\b\b\b\b\b\b\b\b\b\b\b\b\b\b\b\b\b\b\b\b\b\b\b\b\b\b\b\b\b\b\b\b\b\b\b\b\b\b\b\r12\/12 [==============================] - 0s 5ms\/step - loss: 0.0723 - accuracy: 0.9843 - val_loss: 0.1155 - val_accuracy: 0.9734\n",
      "Epoch 94\/100\n",
      "\r 1\/12 [=>............................] - ETA: 0s - loss: 0.0381 - accuracy: 1.0000\b\b\b\b\b\b\b\b\b\b\b\b\b\b\b\b\b\b\b\b\b\b\b\b\b\b\b\b\b\b\b\b\b\b\b\b\b\b\b\b\b\b\b\b\b\b\b\b\b\b\b\b\b\b\b\b\b\b\b\b\b\b\b\b\b\b\b\b\b\b\b\b\b\b\b\b\b\b\b\b\b\b\r12\/12 [==============================] - 0s 4ms\/step - loss: 0.0718 - accuracy: 0.9843 - val_loss: 0.1153 - val_accuracy: 0.9734\n",
      "Epoch 95\/100\n",
      "\r 1\/12 [=>............................] - ETA: 0s - loss: 0.0690 - accuracy: 0.9688\b\b\b\b\b\b\b\b\b\b\b\b\b\b\b\b\b\b\b\b\b\b\b\b\b\b\b\b\b\b\b\b\b\b\b\b\b\b\b\b\b\b\b\b\b\b\b\b\b\b\b\b\b\b\b\b\b\b\b\b\b\b\b\b\b\b\b\b\b\b\b\b\b\b\b\b\b\b\b\b\b\b\r12\/12 [==============================] - 0s 4ms\/step - loss: 0.0714 - accuracy: 0.9843 - val_loss: 0.1150 - val_accuracy: 0.9734\n",
      "Epoch 96\/100\n",
      "\r 1\/12 [=>............................] - ETA: 0s - loss: 0.0875 - accuracy: 0.9375\b\b\b\b\b\b\b\b\b\b\b\b\b\b\b\b\b\b\b\b\b\b\b\b\b\b\b\b\b\b\b\b\b\b\b\b\b\b\b\b\b\b\b\b\b\b\b\b\b\b\b\b\b\b\b\b\b\b\b\b\b\b\b\b\b\b\b\b\b\b\b\b\b\b\b\b\b\b\b\b\b\b\r12\/12 [==============================] - 0s 5ms\/step - loss: 0.0710 - accuracy: 0.9843 - val_loss: 0.1147 - val_accuracy: 0.9734\n",
      "Epoch 97\/100\n",
      "\r 1\/12 [=>............................] - ETA: 0s - loss: 0.1364 - accuracy: 0.9688\b\b\b\b\b\b\b\b\b\b\b\b\b\b\b\b\b\b\b\b\b\b\b\b\b\b\b\b\b\b\b\b\b\b\b\b\b\b\b\b\b\b\b\b\b\b\b\b\b\b\b\b\b\b\b\b\b\b\b\b\b\b\b\b\b\b\b\b\b\b\b\b\b\b\b\b\b\b\b\b\b\b\r12\/12 [==============================] - 0s 4ms\/step - loss: 0.0706 - accuracy: 0.9843 - val_loss: 0.1145 - val_accuracy: 0.9734\n",
      "Epoch 98\/100\n",
      "\r 1\/12 [=>............................] - ETA: 0s - loss: 0.0599 - accuracy: 1.0000\b\b\b\b\b\b\b\b\b\b\b\b\b\b\b\b\b\b\b\b\b\b\b\b\b\b\b\b\b\b\b\b\b\b\b\b\b\b\b\b\b\b\b\b\b\b\b\b\b\b\b\b\b\b\b\b\b\b\b\b\b\b\b\b\b\b\b\b\b\b\b\b\b\b\b\b\b\b\b\b\b\b\r12\/12 [==============================] - 0s 5ms\/step - loss: 0.0702 - accuracy: 0.9843 - val_loss: 0.1142 - val_accuracy: 0.9734\n",
      "Epoch 99\/100\n",
      "\r 1\/12 [=>............................] - ETA: 0s - loss: 0.0306 - accuracy: 1.0000\b\b\b\b\b\b\b\b\b\b\b\b\b\b\b\b\b\b\b\b\b\b\b\b\b\b\b\b\b\b\b\b\b\b\b\b\b\b\b\b\b\b\b\b\b\b\b\b\b\b\b\b\b\b\b\b\b\b\b\b\b\b\b\b\b\b\b\b\b\b\b\b\b\b\b\b\b\b\b\b\b\b\r12\/12 [==============================] - 0s 6ms\/step - loss: 0.0697 - accuracy: 0.9843 - val_loss: 0.1140 - val_accuracy: 0.9734\n",
      "Epoch 100\/100\n",
      "\r 1\/12 [=>............................] - ETA: 0s - loss: 0.1379 - accuracy: 0.9375\b\b\b\b\b\b\b\b\b\b\b\b\b\b\b\b\b\b\b\b\b\b\b\b\b\b\b\b\b\b\b\b\b\b\b\b\b\b\b\b\b\b\b\b\b\b\b\b\b\b\b\b\b\b\b\b\b\b\b\b\b\b\b\b\b\b\b\b\b\b\b\b\b\b\b\b\b\b\b\b\b\b\r12\/12 [==============================] - 0s 5ms\/step - loss: 0.0694 - accuracy: 0.9843 - val_loss: 0.1137 - val_accuracy: 0.9734\n"
     ],
     "output_type":"stream"
    }
   ],
   "metadata":{
    "datalore":{
     "node_id":"rp89YOpQEQ8vCtIx1JXE0E",
     "type":"CODE",
     "hide_input_from_viewers":true,
     "hide_output_from_viewers":true
    }
   }
  },
  {
   "cell_type":"code",
   "source":[
    "print('train score: ', model.evaluate(x_train,y_train))\n",
    "print('test score: ', model.evaluate(x_test,y_test))"
   ],
   "execution_count":24,
   "outputs":[
    {
     "name":"stdout",
     "text":[
      "\r 1\/12 [=>............................] - ETA: 0s - loss: 0.0584 - accuracy: 1.0000\b\b\b\b\b\b\b\b\b\b\b\b\b\b\b\b\b\b\b\b\b\b\b\b\b\b\b\b\b\b\b\b\b\b\b\b\b\b\b\b\b\b\b\b\b\b\b\b\b\b\b\b\b\b\b\b\b\b\b\b\b\b\b\b\b\b\b\b\b\b\b\b\b\b\b\b\b\b\b\b\b\b\r12\/12 [==============================] - 0s 1ms\/step - loss: 0.0691 - accuracy: 0.9843\n",
      "train score:  [0.06912773102521896, 0.9842519760131836]\n",
      "\r1\/6 [====>.........................] - ETA: 0s - loss: 0.0318 - accuracy: 1.0000\b\b\b\b\b\b\b\b\b\b\b\b\b\b\b\b\b\b\b\b\b\b\b\b\b\b\b\b\b\b\b\b\b\b\b\b\b\b\b\b\b\b\b\b\b\b\b\b\b\b\b\b\b\b\b\b\b\b\b\b\b\b\b\b\b\b\b\b\b\b\b\b\b\b\b\b\b\b\b\b\r6\/6 [==============================] - 0s 2ms\/step - loss: 0.1137 - accuracy: 0.9734\n",
      "test score:  [0.11371418833732605, 0.9734042286872864]\n"
     ],
     "output_type":"stream"
    }
   ],
   "metadata":{
    "datalore":{
     "node_id":"PD5rEvm3TOX06x7ltOHvnm",
     "type":"CODE",
     "hide_input_from_viewers":true,
     "hide_output_from_viewers":true
    }
   }
  },
  {
   "cell_type":"code",
   "source":[
    "import matplotlib.pyplot as plt\n",
    "plt.plot(r.history['loss'], label='loss')\n",
    "plt.plot(r.history['val_loss'], label='val_loss')\n",
    "plt.legend();"
   ],
   "execution_count":27,
   "outputs":[
    {
     "data":{
      "image\/png":"[encoded data removed]"
     },
     "metadata":{
      "image\/png":{
       
      }
     },
     "output_type":"display_data"
    }
   ],
   "metadata":{
    "datalore":{
     "node_id":"yLG9MCZ4WODFO2UWUI1fYR",
     "type":"CODE",
     "hide_input_from_viewers":true,
     "hide_output_from_viewers":true
    }
   }
  },
  {
   "cell_type":"code",
   "source":[
    "plt.plot(r.history['accuracy'], label='acc')\n",
    "plt.plot(r.history['val_accuracy'], label='val_acc')\n",
    "plt.legend();"
   ],
   "execution_count":28,
   "outputs":[
    {
     "data":{
      "image\/png":"[encoded data removed]"
     },
     "metadata":{
      "image\/png":{
       
      }
     },
     "output_type":"display_data"
    }
   ],
   "metadata":{
    "datalore":{
     "node_id":"yfXGWgscluhAJ5sTubNzIm",
     "type":"CODE",
     "hide_input_from_viewers":true,
     "hide_output_from_viewers":true
    }
   }
  },
  {
   "cell_type":"code",
   "source":[
    
   ],
   "execution_count":null,
   "outputs":[
    
   ],
   "metadata":{
    "datalore":{
     "node_id":"g0w0MDCsyF8iC79xZ8ggnN",
     "type":"CODE",
     "hide_input_from_viewers":true,
     "hide_output_from_viewers":true
    }
   }
  }
 ],
 "metadata":{
  "kernelspec":{
   "display_name":"Python",
   "language":"python",
   "name":"python"
  },
  "datalore":{
   "version":1,
   "computation_mode":"JUPYTER",
   "package_manager":"pip",
   "base_environment":"default",
   "packages":[
    
   ]
  }
 },
 "nbformat":4,
 "nbformat_minor":4
}